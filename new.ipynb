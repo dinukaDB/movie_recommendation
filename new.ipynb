{
  "nbformat": 4,
  "nbformat_minor": 0,
  "metadata": {
    "colab": {
      "provenance": [],
      "authorship_tag": "ABX9TyNCDhNx5lgmq6w3050rciOa",
      "include_colab_link": true
    },
    "kernelspec": {
      "name": "python3",
      "display_name": "Python 3"
    },
    "language_info": {
      "name": "python"
    }
  },
  "cells": [
    {
      "cell_type": "markdown",
      "metadata": {
        "id": "view-in-github",
        "colab_type": "text"
      },
      "source": [
        "<a href=\"https://colab.research.google.com/github/dinukaDB/movie_recommendation/blob/main/new.ipynb\" target=\"_parent\"><img src=\"https://colab.research.google.com/assets/colab-badge.svg\" alt=\"Open In Colab\"/></a>"
      ]
    },
    {
      "cell_type": "code",
      "execution_count": 8,
      "metadata": {
        "id": "HDwhrPd6hCUK"
      },
      "outputs": [],
      "source": [
        "import pickle\n",
        "import pandas as pd\n",
        "from sklearn.feature_extraction.text import CountVectorizer\n",
        "from sklearn.metrics.pairwise import cosine_similarity"
      ]
    },
    {
      "cell_type": "code",
      "source": [
        "movies = pd.read_csv('dataset.csv')"
      ],
      "metadata": {
        "id": "_nPzgZcshlYL"
      },
      "execution_count": null,
      "outputs": []
    },
    {
      "cell_type": "code",
      "source": [
        "movies['tags'] = movies['genre'] + \" \" + movies['overview']\n",
        "new_df = movies[['id', 'title', 'tags']]"
      ],
      "metadata": {
        "id": "EVj9mxH_ho8K"
      },
      "execution_count": null,
      "outputs": []
    },
    {
      "cell_type": "code",
      "source": [
        "cv = CountVectorizer(max_features=10000, stop_words='english')\n",
        "vec = cv.fit_transform(new_df['tags'].values.astype('U')).toarray()\n",
        "sim = cosine_similarity(vec)"
      ],
      "metadata": {
        "id": "dVCMVPUHhrvn"
      },
      "execution_count": null,
      "outputs": []
    },
    {
      "cell_type": "code",
      "source": [
        "with open('count_vectorizer.pkl', 'wb') as file:\n",
        "    pickle.dump(cv, file)"
      ],
      "metadata": {
        "id": "BQD44Yb5hvH_"
      },
      "execution_count": null,
      "outputs": []
    },
    {
      "cell_type": "code",
      "source": [
        "with open('similarity_matrix.pkl', 'wb') as file:\n",
        "    pickle.dump(sim, file)"
      ],
      "metadata": {
        "id": "BruTK5z5h7_3"
      },
      "execution_count": null,
      "outputs": []
    },
    {
      "cell_type": "code",
      "source": [
        "new_df.to_csv('processed_movies.csv', index=False)"
      ],
      "metadata": {
        "id": "WjTZcNoqh-ae"
      },
      "execution_count": null,
      "outputs": []
    },
    {
      "cell_type": "code",
      "source": [],
      "metadata": {
        "id": "2rHV4DETiD2e"
      },
      "execution_count": null,
      "outputs": []
    }
  ]
}